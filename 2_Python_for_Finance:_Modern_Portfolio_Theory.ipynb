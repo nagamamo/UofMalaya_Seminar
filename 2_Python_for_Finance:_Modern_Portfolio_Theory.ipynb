{
  "cells": [
    {
      "cell_type": "markdown",
      "metadata": {
        "id": "view-in-github",
        "colab_type": "text"
      },
      "source": [
        "<a href=\"https://colab.research.google.com/github/nagamamo/UofMalaya_Seminar/blob/main/2_Python_for_Finance%3A_Modern_Portfolio_Theory.ipynb\" target=\"_parent\"><img src=\"https://colab.research.google.com/assets/colab-badge.svg\" alt=\"Open In Colab\"/></a>"
      ]
    },
    {
      "cell_type": "markdown",
      "source": [
        "# **2 Python for Finance: Modern Portfolio Theory**\n",
        "\n"
      ],
      "metadata": {
        "id": "8mY4VTYjFh7Z"
      }
    },
    {
      "cell_type": "markdown",
      "source": [
        "The **mean-variance approach** originates from the idea that the average return and its variance (volatility) of the assets used to derive the optimal asset composition.\n",
        "\n",
        "This theory shows how, when holding multiple assets, the composition that provides the **optimal return** and **risk** is calculated.\n",
        "\n",
        "In short, **average (expected) return** is the **mean (expected) value** of the past (future) rate of return in asset prices.\n",
        "\n",
        "\n",
        "It is expected that this past rate of return distribution will be similarly scattered in the future under a certain probability distribution. The expected return is expressed as the \"**expected return**.\"\n"
      ],
      "metadata": {
        "id": "-L1CdOJVF6RU"
      }
    },
    {
      "cell_type": "markdown",
      "source": [
        "# 2.1  Libraries for Effcient Frontier\n",
        "\n"
      ],
      "metadata": {
        "id": "96leBiigIYLH"
      }
    },
    {
      "cell_type": "markdown",
      "source": [
        "To derive the **efficient frontier** of two assets, we will use the following five libraries that we have already learned last time."
      ],
      "metadata": {
        "id": "v3vhtFyKG7ZC"
      }
    },
    {
      "cell_type": "code",
      "source": [
        "#[1] Import Libraries\n",
        "from pandas_datareader import data\n",
        "import datetime\n",
        "import pandas as pd\n",
        "import numpy as np\n",
        "import matplotlib.pyplot as plt"
      ],
      "metadata": {
        "id": "Et2ZGJHLuOrO"
      },
      "execution_count": null,
      "outputs": []
    },
    {
      "cell_type": "markdown",
      "source": [
        "# 2.2  Data Retrieval"
      ],
      "metadata": {
        "id": "redvZLy-I9IU"
      }
    },
    {
      "cell_type": "markdown",
      "source": [
        " In this example, we acquire daily stock price data of Hong Kong H-share companies **Tencent (700.HK)** and **Zhejiang Geely Automobile Holdings (175.HK)**."
      ],
      "metadata": {
        "id": "0JKFXQhtu_ph"
      }
    },
    {
      "cell_type": "code",
      "execution_count": null,
      "metadata": {
        "id": "HwN_0oaWGsQO"
      },
      "outputs": [],
      "source": [
        "#[2] Retrieval of Daily Stock Price Data\n",
        "tickers=['700.HK','175.HK']\n",
        "start=datetime.date(2019,1,1)\n",
        "end=datetime.date(2021,12,31)#\n",
        "data=data.DataReader(tickers,'stooq',start=start,end=end).sort_values(by='Date',ascending=True)"
      ]
    },
    {
      "cell_type": "markdown",
      "source": [
        "# 2.3  Data Pre-Processing\n"
      ],
      "metadata": {
        "id": "KgWXjCP0JC7G"
      }
    },
    {
      "cell_type": "markdown",
      "source": [
        "Of the acquired data, only the closing price (Close) is stored in a new data frame **df**.\n",
        "\n",
        "In the second line, the original data are converted to the returns of the closing prices stored in the dataframe **df** and the **missing values** are removed.\n"
      ],
      "metadata": {
        "id": "ARGjjbb0vVpX"
      }
    },
    {
      "cell_type": "code",
      "source": [
        "#[3] Data Pre-Processing\n",
        "df=data.Close\n",
        "df=df.pct_change().dropna()"
      ],
      "metadata": {
        "id": "vbsZ83pLx7rf"
      },
      "execution_count": null,
      "outputs": []
    },
    {
      "cell_type": "markdown",
      "source": [
        "# 2.4  Mean and Variance\n",
        "\n"
      ],
      "metadata": {
        "id": "SAo9fndXJPwX"
      }
    },
    {
      "cell_type": "markdown",
      "source": [
        "The first line calculates the **average returns** of the stock prices.\n",
        "The second line calculates the **variances of the stock price returns**.\n",
        "The third line calculates the **covariance of the two stock price returns** of 700.HK and 175.HK."
      ],
      "metadata": {
        "id": "wiwN9VzWvsKC"
      }
    },
    {
      "cell_type": "code",
      "execution_count": null,
      "metadata": {
        "id": "Jg0eyoa4HRof"
      },
      "outputs": [],
      "source": [
        "#[4] Mean and Variance\n",
        "Rp=df.mean()*250\n",
        "VAR_Rp=df.var()*250\n",
        "Cov_Rp=df['700.HK'].cov(df['175.HK'])*250"
      ]
    },
    {
      "cell_type": "markdown",
      "source": [
        "# 2.5  Portfolio Returns by Asset Allocation\n",
        "\n"
      ],
      "metadata": {
        "id": "pTC3tSdFJ4Um"
      }
    },
    {
      "cell_type": "markdown",
      "source": [
        "Using  **np.arange()** to generate a numerical value from the minimum A% to the maximum C% in steps of B%, and name this data as ***weight***.\n",
        "\n",
        "In the second line, use this ***weight*** to increase the value by 1% from 0% (100%) to 100% to calculate the 101 patterns of **expected return** combinations.\n"
      ],
      "metadata": {
        "id": "FkVf4TyMv4MA"
      }
    },
    {
      "cell_type": "code",
      "execution_count": null,
      "metadata": {
        "id": "ZeZ5LZFtOoQS"
      },
      "outputs": [],
      "source": [
        "#[5] Portfolio Returns by Asset Composition\n",
        "weights=np.arange(0,1.01,0.01)\n",
        "for i in np.arange(0,1.01,0.01):\n",
        "  E_Rp=weights*Rp[\"700.HK\"]+(1-weights)*Rp[\"175.HK\"]"
      ]
    },
    {
      "cell_type": "markdown",
      "source": [
        "# 2.6 Standard Diviations by Asset Allocation\n",
        "\n"
      ],
      "metadata": {
        "id": "ywrymnBoK38p"
      }
    },
    {
      "cell_type": "markdown",
      "source": [
        "Using varaible ***weight*** generated on the previous page, increase the ratio by 1% from 0% (100%) to 100% and calculate the variance by combining 101 patterns of two assets.\n",
        "\n",
        "In the second line, convert this variance to standard deviation using **np.sqrt()**.\n"
      ],
      "metadata": {
        "id": "X0WToc-6LE1u"
      }
    },
    {
      "cell_type": "code",
      "execution_count": null,
      "metadata": {
        "id": "6CbtdJCJPnbI"
      },
      "outputs": [],
      "source": [
        "#[6] Portfolio Risks by Asset Allocation\n",
        "for i in np.arange(0,1.01,0.01):\n",
        "  Var_Rp2=weights*weights*VAR_Rp[\"700.HK\"]+(1-weights)*(1-weights)*VAR_Rp[\"175.HK\"]+2*weights*(1-weights)*Cov_Rp\n",
        "Sigma_Rp=np.sqrt(Var_Rp2)"
      ]
    },
    {
      "cell_type": "markdown",
      "source": [
        "# 2.7 Efficient Frontier: Visualization"
      ],
      "metadata": {
        "id": "Y0fzmU9iLm7k"
      }
    },
    {
      "cell_type": "code",
      "execution_count": null,
      "metadata": {
        "id": "47yyvzpbS_WU",
        "collapsed": true
      },
      "outputs": [],
      "source": [
        "#[7]Efficient Frontier: Visualization\n",
        "plt.scatter(Sigma_Rp,E_Rp)\n",
        "plt.xlabel(\"Risk\")\n",
        "plt.ylabel(\"Expected Return\")"
      ]
    },
    {
      "cell_type": "markdown",
      "source": [
        "# 2.8  Sharpe Ratio"
      ],
      "metadata": {
        "id": "zKQ-tqy2wRvW"
      }
    },
    {
      "cell_type": "markdown",
      "source": [
        "Next, following the derive of the efficient frontier, we derive the **capital market line (CML)**.\n",
        "\n",
        "Using the source code below, we were able to draw the **efficient frontier**. However, which ratio to be choosen from all the asset allocations should be decided.\n",
        "\n",
        "Here, we first need the interest rate of the **risk-free asset**, so in the first line, we give the interest rate of the **10-year Hong Kong dollar bond yield**.\n",
        "\n",
        "When calculating the **average return** and **standard deviation**, the return and risk values ​for each asset ratio using **numpy** are stored in a new pandas data frame **df1**.\n",
        "\n",
        "Using this dataframe, we calculate the **Sharpe ratio (s_ratio)**. Using **np.amax()**, it is possible to extract the highest Sharpe ratio from this data **(max_sr)**."
      ],
      "metadata": {
        "id": "Mq-ckVNkNXBh"
      }
    },
    {
      "cell_type": "code",
      "execution_count": null,
      "metadata": {
        "id": "7uNvmeVtLbdl",
        "collapsed": true
      },
      "outputs": [],
      "source": [
        "#[8] Sharpe Ratio\n",
        "rf=0.03157\n",
        "columns=['Ratio']\n",
        "mean_variance=pd.DataFrame(data=weights, columns=columns)\n",
        "mean_variance['Risk'] = pd.DataFrame(Sigma_Rp)\n",
        "mean_variance['Expected_Returns'] = pd.DataFrame(E_Rp)\n",
        "mean_variance['Sharp_Ratio'] = pd.DataFrame((E_Rp-rf)/Sigma_Rp)\n",
        "s_ratio=(E_Rp-rf)/Sigma_Rp\n",
        "max_sr=np.amax(s_ratio)\n",
        "mean_variance"
      ]
    },
    {
      "cell_type": "markdown",
      "source": [
        "\n",
        "# 2.9 Optimal Asset Allocation"
      ],
      "metadata": {
        "id": "TOySB4UNOa8a"
      }
    },
    {
      "cell_type": "markdown",
      "source": [
        "Next, using the **mean_variance** dataframe we created earlier, we save the asset composition ratio, standard deviation, and return of Tencent and Geely Automobile that maximizes the **Sharpe Ratio** using **loc[mean_variance['Sharp_Ratio'].idxmax()**].\n",
        "\n",
        "We then extract the standard deviation **(optimal.iloc[1,0])** and average return **(optimal.iloc[2,0]**) values ​​at this time and name them new variables ***opt_risk*** and ***opt_return***, respectively."
      ],
      "metadata": {
        "id": "auVaP--Rwffb"
      }
    },
    {
      "cell_type": "code",
      "execution_count": null,
      "metadata": {
        "id": "NHOMNJuP-xHe",
        "collapsed": true
      },
      "outputs": [],
      "source": [
        "#[9] Optimal Asset Allocation\n",
        "optimal=pd.DataFrame(mean_variance.loc[mean_variance['Sharp_Ratio'].idxmax()])\n",
        "opt_risk=optimal.iloc[1,0] #\n",
        "opt_return=optimal.iloc[2,0]\n",
        "optimal"
      ]
    },
    {
      "cell_type": "markdown",
      "source": [
        "# 3.0 Capital Market Line and Efficient Frontier"
      ],
      "metadata": {
        "id": "3kXMlzW_PZWx"
      }
    },
    {
      "cell_type": "markdown",
      "source": [
        "Finally, we visualize the **capital market line (CML)**, which has risk (standard deviation) on the horizontal axis and expected return on the vertical axis, along with the efficient frontier.\n",
        "\n",
        "The slope of the **capital market line (CML)** is consistent with the **Sharpe Ratio**.\n",
        "\n",
        "The slope of the linear **capital market line (CML)** is constant, but the important point is that this **capital market line (CML**) always tangents the **efficient frontier**.\n",
        "\n",
        "This **tangent point** is the **optimal asset allocation** of **Tencent (700.HK)** and G**eely Automobile (175.HK)** portfolio."
      ],
      "metadata": {
        "id": "qo5XgtJjw1pq"
      }
    },
    {
      "cell_type": "code",
      "execution_count": null,
      "metadata": {
        "id": "Y-_gMDVXpd7F",
        "colab": {
          "base_uri": "https://localhost:8080/",
          "height": 472
        },
        "outputId": "09be31e9-bab4-4b9d-81e8-5455df50e627"
      },
      "outputs": [
        {
          "output_type": "display_data",
          "data": {
            "text/plain": [
              "<Figure size 640x480 with 1 Axes>"
            ],
            "image/png": "[encoded data removed]"
          },
          "metadata": {}
        }
      ],
      "source": [
        "#[10] Capital Market Line and Efficiant Frontier\n",
        "def CML(rf,sharp_R,label):\n",
        "    Risk = [x/100 for x in range(100)]\n",
        "    ExpectedReturn = [rf+max_sr*x for x in Risk]\n",
        "    plt.plot(Risk,ExpectedReturn,label=label)\n",
        "    plt.xlabel(\"Risk\")\n",
        "    plt.xlim(0.325,0.525)\n",
        "    plt.ylabel(\"Expected Return\")\n",
        "    plt.ylim(0.18,0.33)\n",
        "    plt.title(\"Optimal Asset Composition\")\n",
        "    plt.plot(opt_risk,sharp_R,\"ro\",linestyle = \"--\",markersize=16)\n",
        "\n",
        "CML(rf,opt_return,\"Capital Market Line\")\n",
        "plt.scatter(Sigma_Rp,E_Rp)\n",
        "plt.legend()\n",
        "plt.show()"
      ]
    }
  ],
  "metadata": {
    "colab": {
      "provenance": [],
      "include_colab_link": true
    },
    "kernelspec": {
      "display_name": "Python 3",
      "name": "python3"
    },
    "language_info": {
      "name": "python"
    }
  },
  "nbformat": 4,
  "nbformat_minor": 0
}