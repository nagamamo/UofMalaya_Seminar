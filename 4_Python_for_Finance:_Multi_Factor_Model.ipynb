{
  "nbformat": 4,
  "nbformat_minor": 0,
  "metadata": {
    "colab": {
      "provenance": [],
      "include_colab_link": true
    },
    "kernelspec": {
      "name": "python3",
      "display_name": "Python 3"
    },
    "language_info": {
      "name": "python"
    }
  },
  "cells": [
    {
      "cell_type": "markdown",
      "metadata": {
        "id": "view-in-github",
        "colab_type": "text"
      },
      "source": [
        "<a href=\"https://colab.research.google.com/github/nagamamo/UofMalaya_Seminar/blob/main/4_Python_for_Finance%3A_Multi_Factor_Model.ipynb\" target=\"_parent\"><img src=\"https://colab.research.google.com/assets/colab-badge.svg\" alt=\"Open In Colab\"/></a>"
      ]
    },
    {
      "cell_type": "markdown",
      "source": [
        "# **4 Python for Finance: Multi Factor Model**"
      ],
      "metadata": {
        "id": "BBu93DNgV4Zw"
      }
    },
    {
      "cell_type": "markdown",
      "source": [
        "1.   **CAPM≒Single Factor Model** estimates the expected return and the risk of individual stocks with a single market portfolio.\n",
        "2.   Therefore, how to overcome the **CAPM anomaly** is one of the most important missions in a market.\n",
        "3.   One of the solutions is “***Arbitrage Price Theory***” by Prof. Stephen Ross.\n",
        "4.   The **CAPM anomaly** is caused by the **small size effect**, **value effect**, and **momentum effect**, etc.\n",
        "1.   By controlling the above three **anomalies**, it is possible to predict the stock price of each individual stocks."
      ],
      "metadata": {
        "id": "A6H9pTnkWNAk"
      }
    },
    {
      "cell_type": "markdown",
      "source": [
        "# 4.1 Installing Package\n",
        "First, install the package to obtain the proxy variables for the **small size** **effect** and **value effect** required for the three-factor model.\n"
      ],
      "metadata": {
        "id": "kQF_mHcFXBRE"
      }
    },
    {
      "cell_type": "code",
      "source": [
        "pip install getFamaFrenchFactors"
      ],
      "metadata": {
        "id": "E1ANyqPb94uA",
        "collapsed": true
      },
      "execution_count": null,
      "outputs": []
    },
    {
      "cell_type": "markdown",
      "source": [
        "# 4.2 Estimating Multi Factor Model: Libraries\n",
        "In this example, we import five libraties."
      ],
      "metadata": {
        "id": "sUdHOiC2-q5C"
      }
    },
    {
      "cell_type": "code",
      "source": [
        "#[1]Import Libraries\n",
        "import pandas as pd\n",
        "import pandas_datareader as data\n",
        "import datetime\n",
        "import statsmodels.api as sm\n",
        "import getFamaFrenchFactors as gff"
      ],
      "metadata": {
        "id": "ROeMNJODseZG"
      },
      "execution_count": 2,
      "outputs": []
    },
    {
      "cell_type": "markdown",
      "source": [
        "# 4.3 Estimating Multi Factor Model: Getting Data\n",
        "Next, we obtain the daily stock prices."
      ],
      "metadata": {
        "id": "hhZb440v_Mlj"
      }
    },
    {
      "cell_type": "code",
      "source": [
        "#[2]Getting Data\n",
        "tickers=['TSLA.US','GM.US']\n",
        "start=datetime.date(2012,1,1)\n",
        "end=datetime.date(2022,12,31)\n",
        "df=data.DataReader(tickers,'stooq',start=start,end=end).sort_values(by='Date',ascending=True)"
      ],
      "metadata": {
        "id": "uZ0bO20HWa6W"
      },
      "execution_count": 3,
      "outputs": []
    },
    {
      "cell_type": "markdown",
      "source": [
        "# 4.4 Estimating Multi Factor Model: Data Pre-processing\n",
        "Store only the variable '**Close**' in dataframe df in a new dataframe.\n",
        "Next, change the colum name from [‘**Close**’] to [‘**Tesla**’,‘**GM**’] .\n",
        "Instruct to change the column name (variable name)  to [‘**Tesla**’,‘**GM**’] on the third line."
      ],
      "metadata": {
        "id": "aYrjDrinY9U6"
      }
    },
    {
      "cell_type": "code",
      "source": [
        "#[3] Data Pre-processing\n",
        "df = df['Close']\n",
        "company_list=['Tesla','GM']\n",
        "df.columns = company_list\n",
        "df.describe()\n",
        "df"
      ],
      "metadata": {
        "id": "d3tMuTtytzyU"
      },
      "execution_count": null,
      "outputs": []
    },
    {
      "cell_type": "markdown",
      "source": [
        "# 4.4 Estimating Multi Factor Model: Getting Anomaly Data\n",
        "Get the following 3 variables from the library **getFamaFrenchFactors** (**gff**).\n",
        "\n",
        "**Mkt-RF**: Market Portfolio Return minus Risk Free Asset Return\n",
        "\n",
        "**SMB**: Proxy Variable for Small Size Effect\n",
        "\n",
        "**HML**: Proxy Variable for Value Effect\n",
        "\n",
        "\n",
        "\n"
      ],
      "metadata": {
        "id": "Db-rQnC8Zp46"
      }
    },
    {
      "cell_type": "code",
      "source": [
        "#[3] Getting Anomaly Data\n",
        "Fama_French_3=gff.famaFrench3Factor(frequency='m')\n",
        "Fama_French_3.rename(columns={\"date_ff_factors\":'Date'},inplace=True)\n",
        "Fama_French_3.set_index('Date',inplace=True)\n",
        "Returns=df.resample('M').last().pct_change().dropna()\n",
        "Fama_French_data=Fama_French_3.merge(Returns,on='Date')\n",
        "#Fama_French_data"
      ],
      "metadata": {
        "id": "7dj6g7RPsosV"
      },
      "execution_count": 6,
      "outputs": []
    },
    {
      "cell_type": "markdown",
      "source": [
        "# 4.5 Estimating Multi Factor Model: Tesla\n",
        "Finally, we estimate the **β value**, **small size effect**, and **value effect**.\n",
        "Independent variables of ***X*** are the **market portfolio return** (**Mkt-RF**), **small size effect** proxy (**SMB**), and **value effect** proxy(**HML**)\n",
        "Dependent variable of ***Y*** is the market return of Tesla (**TSLA.US**)."
      ],
      "metadata": {
        "id": "NzEQLbJB_58J"
      }
    },
    {
      "cell_type": "code",
      "source": [
        "#[4] Estimating Multi Factor Model: Tesla\n",
        "X=Fama_French_data[['Mkt-RF','SMB','HML']]\n",
        "#X=Fama_French_data[['Mkt-RF']]\n",
        "y=Fama_French_data['Tesla']-Fama_French_data['RF']\n",
        "X=sm.add_constant(X)\n",
        "Fama_French_Model1=sm.OLS(y,X).fit()\n",
        "print(Fama_French_Model1.summary())"
      ],
      "metadata": {
        "id": "NOkTeGqevsJ3",
        "colab": {
          "base_uri": "https://localhost:8080/"
        },
        "outputId": "e1fa753a-7e19-46d6-831e-c5f573bea3dc"
      },
      "execution_count": 7,
      "outputs": [
        {
          "output_type": "stream",
          "name": "stdout",
          "text": [
            "                            OLS Regression Results                            \n",
            "==============================================================================\n",
            "Dep. Variable:                      y   R-squared:                       0.227\n",
            "Model:                            OLS   Adj. R-squared:                  0.209\n",
            "Method:                 Least Squares   F-statistic:                     12.44\n",
            "Date:                Sat, 15 Jun 2024   Prob (F-statistic):           3.49e-07\n",
            "Time:                        05:25:48   Log-Likelihood:                 51.923\n",
            "No. Observations:                 131   AIC:                            -95.85\n",
            "Df Residuals:                     127   BIC:                            -84.35\n",
            "Df Model:                           3                                         \n",
            "Covariance Type:            nonrobust                                         \n",
            "==============================================================================\n",
            "                 coef    std err          t      P>|t|      [0.025      0.975]\n",
            "------------------------------------------------------------------------------\n",
            "const          0.0287      0.015      1.924      0.057      -0.001       0.058\n",
            "Mkt-RF         1.8498      0.348      5.312      0.000       1.161       2.539\n",
            "SMB            0.3776      0.609      0.620      0.536      -0.828       1.583\n",
            "HML           -1.0330      0.427     -2.420      0.017      -1.878      -0.188\n",
            "==============================================================================\n",
            "Omnibus:                       41.868   Durbin-Watson:                   1.563\n",
            "Prob(Omnibus):                  0.000   Jarque-Bera (JB):              103.703\n",
            "Skew:                           1.264   Prob(JB):                     3.03e-23\n",
            "Kurtosis:                       6.551   Cond. No.                         42.9\n",
            "==============================================================================\n",
            "\n",
            "Notes:\n",
            "[1] Standard Errors assume that the covariance matrix of the errors is correctly specified.\n"
          ]
        }
      ]
    },
    {
      "cell_type": "markdown",
      "source": [
        "# 4.6 Estimating Multi Factor Model: GM\n",
        "Looking at the results, we can see that Tesla has a **growth effect**, and GM has a **small size effect** and **value effect**.\n",
        "\n",
        "A further important finding is that due to these **CAPM anomalies**, the **β value** differs significantly between **single-factor** and **multi-factor models**.\n"
      ],
      "metadata": {
        "id": "CyYCjCKHba6M"
      }
    },
    {
      "cell_type": "code",
      "source": [
        "#[5]Estimating Multi Factor Model: GM\n",
        "X=Fama_French_data[['Mkt-RF','SMB','HML']]\n",
        "z=Fama_French_data['GM']-Fama_French_data['RF']\n",
        "X=sm.add_constant(X)\n",
        "Fama_French_Model2=sm.OLS(z,X).fit()\n",
        "print(Fama_French_Model2.summary())\n",
        "#Fama_French_Model2.summary()"
      ],
      "metadata": {
        "id": "5NzNlB62v1Ip",
        "colab": {
          "base_uri": "https://localhost:8080/"
        },
        "outputId": "c563acc1-e2e7-4224-e724-3d9c00b849b8"
      },
      "execution_count": 8,
      "outputs": [
        {
          "output_type": "stream",
          "name": "stdout",
          "text": [
            "                            OLS Regression Results                            \n",
            "==============================================================================\n",
            "Dep. Variable:                      y   R-squared:                       0.531\n",
            "Model:                            OLS   Adj. R-squared:                  0.520\n",
            "Method:                 Least Squares   F-statistic:                     47.93\n",
            "Date:                Sat, 15 Jun 2024   Prob (F-statistic):           8.76e-21\n",
            "Time:                        05:25:56   Log-Likelihood:                 180.48\n",
            "No. Observations:                 131   AIC:                            -353.0\n",
            "Df Residuals:                     127   BIC:                            -341.5\n",
            "Df Model:                           3                                         \n",
            "Covariance Type:            nonrobust                                         \n",
            "==============================================================================\n",
            "                 coef    std err          t      P>|t|      [0.025      0.975]\n",
            "------------------------------------------------------------------------------\n",
            "const         -0.0037      0.006     -0.663      0.509      -0.015       0.007\n",
            "Mkt-RF         1.1937      0.131      9.146      0.000       0.935       1.452\n",
            "SMB            0.7657      0.228      3.354      0.001       0.314       1.217\n",
            "HML            0.6989      0.160      4.369      0.000       0.382       1.015\n",
            "==============================================================================\n",
            "Omnibus:                        3.412   Durbin-Watson:                   2.111\n",
            "Prob(Omnibus):                  0.182   Jarque-Bera (JB):                2.971\n",
            "Skew:                           0.255   Prob(JB):                        0.226\n",
            "Kurtosis:                       3.534   Cond. No.                         42.9\n",
            "==============================================================================\n",
            "\n",
            "Notes:\n",
            "[1] Standard Errors assume that the covariance matrix of the errors is correctly specified.\n"
          ]
        }
      ]
    }
  ]
}