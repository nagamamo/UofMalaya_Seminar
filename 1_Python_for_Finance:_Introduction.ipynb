{
  "nbformat": 4,
  "nbformat_minor": 0,
  "metadata": {
    "colab": {
      "provenance": [],
      "authorship_tag": "ABX9TyM3Fnhv/824mY90g6YaCWgk",
      "include_colab_link": true
    },
    "kernelspec": {
      "name": "python3",
      "display_name": "Python 3"
    },
    "language_info": {
      "name": "python"
    }
  },
  "cells": [
    {
      "cell_type": "markdown",
      "metadata": {
        "id": "view-in-github",
        "colab_type": "text"
      },
      "source": [
        "<a href=\"https://colab.research.google.com/github/nagamamo/UofMalaya_Seminar/blob/main/1_Python_for_Finance%3A_Introduction.ipynb\" target=\"_parent\"><img src=\"https://colab.research.google.com/assets/colab-badge.svg\" alt=\"Open In Colab\"/></a>"
      ]
    },
    {
      "cell_type": "markdown",
      "source": [
        "# **1**       **Python for Finance: Introduction**\n",
        "Mamoru Nagano\n",
        "\n",
        "Professor of Finance, Seikei University"
      ],
      "metadata": {
        "id": "yGtEsJ3sYXdj"
      }
    },
    {
      "cell_type": "markdown",
      "source": [
        "This seminar will use **Google Colaboratory** to explain the implementation of finance theory using **Python**.\n",
        "\n",
        "In **Google Colaboratory**, users type source codes from the following address:\n",
        "\n",
        "https://colab.research.google.com/\n",
        "\n",
        "\n",
        "For reference, if you want to install and run **Python** on your own PC, please install the program files from the following site.\n",
        "\n",
        "https://www.python.org/"
      ],
      "metadata": {
        "id": "ARPwQ-N_gV9R"
      }
    },
    {
      "cell_type": "markdown",
      "source": [
        "# 1.1 Pandas datareader\n",
        "\n"
      ],
      "metadata": {
        "id": "Kast1PUgj4Mq"
      }
    },
    {
      "cell_type": "markdown",
      "source": [
        "Below, this seminar first introduces how to obtain daily stock price data, interest rate data, and macroeconomic data from external databases of financial information agencies or international organizations.\n",
        "\n",
        "These data acquisition mainly uses **pandas_datareader**. No package installation is required when using **Google Colab**."
      ],
      "metadata": {
        "id": "oSV4otpqgSAA"
      }
    },
    {
      "cell_type": "markdown",
      "source": [
        "First of all, we need to describe the source code below to import the library. Here, \"***data***\" is a nickname (something like) when using this library and you can choose any nicknames here."
      ],
      "metadata": {
        "id": "YDcUVIO1h9Ng"
      }
    },
    {
      "cell_type": "code",
      "source": [
        "import pandas_datareader as data"
      ],
      "metadata": {
        "id": "SESogDFzPfwH"
      },
      "execution_count": null,
      "outputs": []
    },
    {
      "cell_type": "markdown",
      "source": [
        "For example, you can get daily data for the Kuala Lumpur Composite Index from January 2000 to May 2024 by the following source code."
      ],
      "metadata": {
        "id": "6SwkphcSi0qN"
      }
    },
    {
      "cell_type": "code",
      "source": [
        "df=data.DataReader('^KLCI','stooq',start='2000-01-01',end='2024-05-30')"
      ],
      "metadata": {
        "id": "agCLs3bXiUS_"
      },
      "execution_count": null,
      "outputs": []
    },
    {
      "cell_type": "markdown",
      "source": [
        "You can take a look at the summary of this data by the following source code."
      ],
      "metadata": {
        "id": "fJrKpvYIizuI"
      }
    },
    {
      "cell_type": "code",
      "source": [
        "df.head()"
      ],
      "metadata": {
        "id": "RfiM8KaZjlhl"
      },
      "execution_count": null,
      "outputs": []
    },
    {
      "cell_type": "markdown",
      "source": [
        "# 1.2    Data Management: datetime\n",
        "\n"
      ],
      "metadata": {
        "id": "ZKVGNMYEkNvg"
      }
    },
    {
      "cell_type": "markdown",
      "source": [
        "When acquiring time series data, importing the library **datetime** in advance will simplify the use of **pandas_datareader**."
      ],
      "metadata": {
        "id": "2-53d-5NkliH"
      }
    },
    {
      "cell_type": "code",
      "source": [
        "import datetime as dt"
      ],
      "metadata": {
        "id": "--UJtcSihdER"
      },
      "execution_count": null,
      "outputs": []
    },
    {
      "cell_type": "code",
      "source": [
        "start=dt.date(2000,1,1)\n",
        "end=dt.date(2024,5,30)\n",
        "df=data.DataReader('^KLCI','stooq',start=start,end=end)\n",
        "df.head()"
      ],
      "metadata": {
        "id": "-0tDTLNXktbe"
      },
      "execution_count": null,
      "outputs": []
    },
    {
      "cell_type": "markdown",
      "source": [
        "# 1.3    Data Retrieval from a CSV File\n",
        "\n",
        "\n",
        "\n"
      ],
      "metadata": {
        "id": "wb658wGylNmQ"
      }
    },
    {
      "cell_type": "markdown",
      "source": [
        "If you want to retrieve data from a CSV file, type the following codes and click a \"file selection\" icon appears on the screen below the cell.\n",
        "\n",
        "Then, select a CSV file from the data folder to retrieve the data."
      ],
      "metadata": {
        "id": "kNAREKFdlg0c"
      }
    },
    {
      "cell_type": "code",
      "source": [
        "import pandas as pd\n",
        "from google.colab import files\n",
        "uploaded = files.upload()"
      ],
      "metadata": {
        "id": "vBhLGRnVnbjb"
      },
      "execution_count": null,
      "outputs": []
    },
    {
      "cell_type": "markdown",
      "source": [
        "After importing data from a CSV file, it is required to store it in a pandas data frame.\n",
        "\n",
        "\"encoding\" is a command that specifies the character code of the file to be read as Shift-JIS or UTF-8 (for Japanese). Index_col=0 specifies that the leftmost column of data is used as the index."
      ],
      "metadata": {
        "id": "6L5JMh1Sm84U"
      }
    },
    {
      "cell_type": "code",
      "source": [
        "df_ex = pd.read_csv(('JPN_US_CN.csv'),encoding=\"Shift-JIS\",index_col=0)\n",
        "df_ex.head()"
      ],
      "metadata": {
        "id": "PiqutrF3nXi5"
      },
      "execution_count": null,
      "outputs": []
    },
    {
      "cell_type": "markdown",
      "source": [
        "# 1.4  Data Retrieval from URL\n",
        "\n"
      ],
      "metadata": {
        "id": "Uy0bdAQbn29d"
      }
    },
    {
      "cell_type": "markdown",
      "source": [
        "Until now, most of the empirical data has been stored in files on users' PCs using spreadsheet software such as **MS-Excel**. However, in the future, data storage in data science will tend to be uploaded to online storage such as **Google Drive**, **GitHub**, **One Drive**, etc., retrieved from a URL, and shared among developers rather than on individual personal PCs."
      ],
      "metadata": {
        "id": "fqXxiQJfoJlg"
      }
    },
    {
      "cell_type": "code",
      "source": [
        "url = \"https://github.com/nagamamo/data/blob/main/3_single_factor_data.csv?raw=true\"\n",
        "data = pd.read_csv(url)"
      ],
      "metadata": {
        "id": "-N7nIDOxoU2g"
      },
      "execution_count": null,
      "outputs": []
    },
    {
      "cell_type": "markdown",
      "source": [
        "# 1.5   Data Management: Pandas\n",
        "\n"
      ],
      "metadata": {
        "id": "hS5_6dncpBIX"
      }
    },
    {
      "cell_type": "markdown",
      "source": [
        "**Pandas** can perform not only numerical calculations but also various data management.\n",
        "\n",
        "It is especially useful for data preprocessing such as removing missing values, merging two data frames, and input/output of CSV data.\n",
        "\n",
        "It is also useful for retrieving data with **pandas_datareader** and then visualizing the data using descriptive statistics with describe() or converting the data to percentage change with pct_change."
      ],
      "metadata": {
        "id": "0TwkLl_ypdo0"
      }
    },
    {
      "cell_type": "code",
      "source": [
        "import pandas_datareader as data\n",
        "import pandas as pd\n",
        "start=dt.date(2000,1,1)\n",
        "end=dt.date(2024,5,30)\n",
        "df=data.DataReader('^KLCI','stooq',start=start,end=end).sort_values(by='Date',ascending=True)\n",
        "df.head()"
      ],
      "metadata": {
        "id": "QqYays-7p6RW"
      },
      "execution_count": null,
      "outputs": []
    },
    {
      "cell_type": "markdown",
      "source": [
        " If you can store asset price data in a **pandas dataframe**, you can easily calculate returns and risks.\n",
        "\n",
        " To calculate the return and risk of an asset, the percentage change from the previous period will be calculated regardless of the frequency of the data, such as daily or weekly using **pandas**."
      ],
      "metadata": {
        "id": "iYGBqHfnqKKo"
      }
    },
    {
      "cell_type": "code",
      "source": [
        "df= df.Close.pct_change().dropna()\n",
        "df.head()"
      ],
      "metadata": {
        "id": "xqv7gTrLqb_x"
      },
      "execution_count": null,
      "outputs": []
    },
    {
      "cell_type": "markdown",
      "source": [
        "# 1.6 Mean and Variance: Pandas"
      ],
      "metadata": {
        "id": "cWv5rxNosZg0"
      }
    },
    {
      "cell_type": "markdown",
      "source": [
        "The average rate of change compared to the previous period is defined as the **average rate of return**, and its standard deviation is the **risk**.\n",
        "\n",
        "Here's how to calculate **average returns**, **standard deviations**, and other descriptive statistics."
      ],
      "metadata": {
        "id": "SEt1mOk6slN2"
      }
    },
    {
      "cell_type": "code",
      "source": [
        "df_mean= df.mean()\n",
        "df_median= df.median()\n",
        "df_std= df.std()\n",
        "df_var= df.var()\n",
        "df_max= df.max()\n",
        "df_min= df.min()\n",
        "df_all= df.describe()"
      ],
      "metadata": {
        "id": "9ufFpgRHtm-Y"
      },
      "execution_count": null,
      "outputs": []
    },
    {
      "cell_type": "markdown",
      "source": [
        "# 1.7 Data Management: NumPy\n",
        "\n"
      ],
      "metadata": {
        "id": "6eW72fubugHY"
      }
    },
    {
      "cell_type": "markdown",
      "source": [
        "**NumPy** is useful for high-speed calculations.\n",
        "\n",
        "Calculations that would take tens of minutes with pandas can be completed in a few seconds using **NumPy**.\n",
        "\n",
        "Additionally, there are several libraries that assume **NumPy** arrays for data input and output, such as the machine learning library scikit-learn.\n",
        "\n",
        "You can store your data directly as a **NumPy** array (**ndarray**), but you can convert it from a pandas dataframe to the ndarray by adding \".values\" to the pandas dataframe."
      ],
      "metadata": {
        "id": "QI5NAZEwutFn"
      }
    },
    {
      "cell_type": "code",
      "source": [
        "import numpy as np\n",
        "nd = df.values"
      ],
      "metadata": {
        "id": "TVfhij-wvF-n",
        "colab": {
          "base_uri": "https://localhost:8080/"
        },
        "outputId": "b68cfabb-a32c-4816-bfef-c46e9953afb1"
      },
      "execution_count": null,
      "outputs": [
        {
          "output_type": "execute_result",
          "data": {
            "text/plain": [
              "array([-0.00130713, -0.02041306,  0.00322383, ..., -0.00151396,\n",
              "       -0.00647968, -0.00067898])"
            ]
          },
          "metadata": {},
          "execution_count": 13
        }
      ]
    },
    {
      "cell_type": "markdown",
      "source": [
        "# 1.8 Mean and Variance: NumPy"
      ],
      "metadata": {
        "id": "oW2mSg5tvvN6"
      }
    },
    {
      "cell_type": "markdown",
      "source": [
        "Here's how to use **NumPy** to convert a **pandas dataframe** to **ndarray** and calculate the average rate of return."
      ],
      "metadata": {
        "id": "bANAL4gIRgFj"
      }
    },
    {
      "cell_type": "code",
      "source": [
        "np_mean=np.mean(nd)\n",
        "nd_median = np.median(nd)\n",
        "nd_std = np.std(nd)\n",
        "nd_var = np.var(nd)\n",
        "nd_max = np.max(nd)\n",
        "nd_min = np.min(nd)"
      ],
      "metadata": {
        "id": "2cBMwSNVwYYy"
      },
      "execution_count": null,
      "outputs": []
    },
    {
      "cell_type": "markdown",
      "source": [
        "# 1.9   Probability Distribution Depiction: Matplotlib"
      ],
      "metadata": {
        "id": "5gZTPx9LzJhM"
      }
    },
    {
      "cell_type": "markdown",
      "source": [
        "Once the** average rate of return** and the **standard deviation** are calculated, a **probability distribution** can be depicted.\n",
        "\n",
        "Below is the most standard **normal distribution** used in **modern finance theory** using its mean and standard deviation.\n",
        "\n",
        "If the rate of return of a stochastic variable that follows a **normal distribution** (a variable that fluctuates with a certain probability) denotes x, its mean value is *μ*, and standard deviation is *σ*, then the probability density function *f(x)* can be expressed as:\n"
      ],
      "metadata": {
        "id": "YT5xliUFzaqa"
      }
    },
    {
      "cell_type": "markdown",
      "source": [
        "f(x)=1/√2πσ  exp⁡(-(x-μ)^2/(2σ^2 ))         (-∞<x<∞)"
      ],
      "metadata": {
        "id": "uNZ9wwJL0B00"
      }
    },
    {
      "cell_type": "code",
      "source": [
        "#[1] Import Libraries\n",
        "import numpy as np\n",
        "from scipy.stats import norm\n",
        "import matplotlib.pyplot as plt"
      ],
      "metadata": {
        "id": "qxM9Qs4w0NEo"
      },
      "execution_count": null,
      "outputs": []
    },
    {
      "cell_type": "code",
      "source": [
        "#[2]Depiction of Normal Distribution\n",
        "X = np.arange(0, 0.2, 0.0001)\n",
        "Y = norm.pdf(X, 0.1, 0.025)\n",
        "plt.xlabel(\"Return\")\n",
        "plt.ylabel(\"Probability Density\")\n",
        "plt.plot(X, Y)\n",
        "plt.show()"
      ],
      "metadata": {
        "colab": {
          "base_uri": "https://localhost:8080/",
          "height": 449
        },
        "id": "iCppgkj20cTV",
        "outputId": "80809072-537e-4398-87ca-795278b30bd1"
      },
      "execution_count": null,
      "outputs": [
        {
          "output_type": "display_data",
          "data": {
            "text/plain": [
              "<Figure size 640x480 with 1 Axes>"
            ],
            "image/png": "[encoded data removed]"
          },
          "metadata": {}
        }
      ]
    }
  ]
}